{
  "nbformat": 4,
  "nbformat_minor": 0,
  "metadata": {
    "colab": {
      "name": "Pytorch Digit Recog.ipynb",
      "provenance": [],
      "collapsed_sections": [],
      "authorship_tag": "ABX9TyMQYo+pt8H9TtrXscNazzHP"
    },
    "kernelspec": {
      "name": "python3",
      "display_name": "Python 3"
    },
    "language_info": {
      "name": "python"
    },
    "accelerator": "GPU"
  },
  "cells": [
    {
      "cell_type": "code",
      "execution_count": null,
      "metadata": {
        "id": "9eWCNGWKTxv4"
      },
      "outputs": [],
      "source": [
        "import torch"
      ]
    },
    {
      "cell_type": "code",
      "source": [
        "import torch.nn as nn\n",
        "import torchvision\n",
        "import torchvision.transforms as transforms\n",
        "import matplotlib.pyplot as plt"
      ],
      "metadata": {
        "id": "Fsar3nf_T16X"
      },
      "execution_count": null,
      "outputs": []
    },
    {
      "cell_type": "code",
      "source": [
        "device = torch.device('cuda')"
      ],
      "metadata": {
        "id": "75VTqLOeUJSA"
      },
      "execution_count": null,
      "outputs": []
    },
    {
      "cell_type": "code",
      "source": [
        "device"
      ],
      "metadata": {
        "colab": {
          "base_uri": "https://localhost:8080/"
        },
        "id": "rH7s7isKUy7G",
        "outputId": "75b4c337-11b2-4e93-8300-0776479a9fba"
      },
      "execution_count": null,
      "outputs": [
        {
          "output_type": "execute_result",
          "data": {
            "text/plain": [
              "device(type='cuda')"
            ]
          },
          "metadata": {},
          "execution_count": 84
        }
      ]
    },
    {
      "cell_type": "code",
      "source": [
        "input_size = 784 # 28x28\n",
        "hidden_size = 512\n",
        "num_classes = 10\n",
        "num_epochs = 20\n",
        "batch_size = 100\n",
        "learning_rate = 0.001"
      ],
      "metadata": {
        "id": "XT1RwUzoU9Cd"
      },
      "execution_count": null,
      "outputs": []
    },
    {
      "cell_type": "code",
      "source": [
        "train_dataset = torchvision.datasets.MNIST(root='./data',train = True,\n",
        "                                          transform = transforms.ToTensor(), download = True)\n",
        "test_dataset = torchvision.datasets.MNIST(root='./data',train = False,\n",
        "                                          transform = transforms.ToTensor())\n",
        "train_loader = torch.utils.data.DataLoader(dataset=train_dataset,batch_size=batch_size,\n",
        "                                           shuffle = True)\n",
        "test_loader = torch.utils.data.DataLoader(dataset=test_dataset,batch_size=batch_size,\n",
        "                                           shuffle = False)"
      ],
      "metadata": {
        "id": "9gl2D_yKVLKm"
      },
      "execution_count": null,
      "outputs": []
    },
    {
      "cell_type": "code",
      "source": [
        "#import pandas as pd\n",
        "#df = pd.read_csv(\"/content/data2/train.csv\")\n",
        "#df.head()\n",
        "##train_dataset = df.iloc[:int(df.shape[0]*0.85)]\n",
        "#train_dataset.shape\n",
        "#train_dataset.tail()\n",
        "#test_dataset = df.iloc[-int(df.shape[0]*0.85):]\n",
        "#test_dataset.shape\n",
        "#df_X = torch.Tensor(X.values)\n",
        "#df_y = torch.Tensor(y.values)\n",
        "#print(\"train_dataset\",df_X.shape)\n",
        "#train_loader = torch.utils.data.DataLoader(dataset=test_dataset,batch_size=batch_size,\n",
        "#                                           shuffle = False)"
      ],
      "metadata": {
        "id": "hgZHDzZ6Uf4u"
      },
      "execution_count": null,
      "outputs": []
    },
    {
      "cell_type": "code",
      "source": [
        "examples = iter(train_loader)\n",
        "samples, labels = examples.next()\n",
        "print(samples.shape, labels.shape)"
      ],
      "metadata": {
        "colab": {
          "base_uri": "https://localhost:8080/"
        },
        "id": "SNKlTawKWA02",
        "outputId": "904786bf-2532-412e-ab5b-d153cda4e7f2"
      },
      "execution_count": null,
      "outputs": [
        {
          "output_type": "stream",
          "name": "stdout",
          "text": [
            "torch.Size([100, 1, 28, 28]) torch.Size([100])\n"
          ]
        }
      ]
    },
    {
      "cell_type": "code",
      "source": [
        "for i in range(6):\n",
        "  plt.subplot(2,3,i+1)\n",
        "  plt.imshow(samples[i][0], cmap='gray')\n",
        "plt.show()"
      ],
      "metadata": {
        "colab": {
          "base_uri": "https://localhost:8080/"
        },
        "id": "2FzbqQOVWZbO",
        "outputId": "0158922b-279a-441f-eb95-f5466fd4051b"
      },
      "execution_count": null,
      "outputs": [
        {
          "output_type": "display_data",
          "data": {
            "image/png": "[encoded data removed]",
            "text/plain": [
              "<Figure size 432x288 with 6 Axes>"
            ]
          },
          "metadata": {
            "needs_background": "light"
          }
        }
      ]
    },
    {
      "cell_type": "code",
      "source": [
        "class NeuralNet(nn.Module):\n",
        "  def __init__(self,input_size,hidden_size,num_classes):\n",
        "    super(NeuralNet,self).__init__()\n",
        "    self.l1 = nn.Linear(input_size,hidden_size)\n",
        "    self.relu = nn.ReLU()\n",
        "    self.l2 = nn.Linear(hidden_size, hidden_size)\n",
        "    self.l3 = nn.Linear(hidden_size, hidden_size)\n",
        "    self.l4 = nn.Linear(hidden_size, num_classes)\n",
        "\n",
        "  def forward(self,x):\n",
        "    out = self.l1(x)\n",
        "    out = self.relu(out)\n",
        "    out = self.l2(out)\n",
        "    out = self.relu(out)\n",
        "    out = self.l3(out)\n",
        "    out = self.relu(out)\n",
        "    out = self.l4(out)\n",
        "    \n",
        "    return out"
      ],
      "metadata": {
        "id": "QnCXO5L5WzJV"
      },
      "execution_count": null,
      "outputs": []
    },
    {
      "cell_type": "code",
      "source": [
        "model = NeuralNet(input_size,hidden_size,num_classes)\n",
        "model.to(device)"
      ],
      "metadata": {
        "id": "2NxoB4yWWyV2",
        "colab": {
          "base_uri": "https://localhost:8080/"
        },
        "outputId": "fc2559e0-85ef-4b32-daa5-c7acf1b28708"
      },
      "execution_count": null,
      "outputs": [
        {
          "output_type": "execute_result",
          "data": {
            "text/plain": [
              "NeuralNet(\n",
              "  (l1): Linear(in_features=784, out_features=512, bias=True)\n",
              "  (relu): ReLU()\n",
              "  (l2): Linear(in_features=512, out_features=512, bias=True)\n",
              "  (l3): Linear(in_features=512, out_features=512, bias=True)\n",
              "  (l4): Linear(in_features=512, out_features=10, bias=True)\n",
              ")"
            ]
          },
          "metadata": {},
          "execution_count": 91
        }
      ]
    },
    {
      "cell_type": "code",
      "source": [
        "criterion = nn.CrossEntropyLoss()\n",
        "optimizer = torch.optim.Adam(model.parameters(), lr=learning_rate)"
      ],
      "metadata": {
        "id": "gWeXlof6YP4W"
      },
      "execution_count": null,
      "outputs": []
    },
    {
      "cell_type": "code",
      "source": [
        "n_total_steps = len(train_loader)\n",
        "for epoch in range(num_epochs):\n",
        "  for i, (images,labels) in enumerate(train_loader):\n",
        "    images = images.reshape(-1,28*28).to(device)\n",
        "    labels = labels.to(device)\n",
        "\n",
        "    #forward\n",
        "    outputs = model(images)\n",
        "    loss = criterion(outputs,labels)\n",
        "\n",
        "    #backwards\n",
        "    optimizer.zero_grad()\n",
        "    loss.backward()\n",
        "    optimizer.step()\n",
        "\n",
        "    if (i+1) % 100 == 0:\n",
        "      print(f'epoch {epoch+1} / {num_epochs}, step {i+1}/{n_total_steps}, loss = {loss.item():.4f}')\n",
        "\n",
        "\n"
      ],
      "metadata": {
        "colab": {
          "base_uri": "https://localhost:8080/"
        },
        "id": "-8dQ9FhpYqzr",
        "outputId": "92a696d4-550d-4395-baed-69502a5f2926"
      },
      "execution_count": null,
      "outputs": [
        {
          "output_type": "stream",
          "name": "stdout",
          "text": [
            "epoch 1 / 20, step 100/600, loss = 0.3246\n",
            "epoch 1 / 20, step 200/600, loss = 0.2531\n",
            "epoch 1 / 20, step 300/600, loss = 0.1132\n",
            "epoch 1 / 20, step 400/600, loss = 0.0537\n",
            "epoch 1 / 20, step 500/600, loss = 0.1350\n",
            "epoch 1 / 20, step 600/600, loss = 0.2360\n",
            "epoch 2 / 20, step 100/600, loss = 0.0809\n",
            "epoch 2 / 20, step 200/600, loss = 0.0840\n",
            "epoch 2 / 20, step 300/600, loss = 0.1378\n",
            "epoch 2 / 20, step 400/600, loss = 0.1456\n",
            "epoch 2 / 20, step 500/600, loss = 0.0929\n",
            "epoch 2 / 20, step 600/600, loss = 0.0242\n",
            "epoch 3 / 20, step 100/600, loss = 0.1121\n",
            "epoch 3 / 20, step 200/600, loss = 0.0872\n",
            "epoch 3 / 20, step 300/600, loss = 0.0814\n",
            "epoch 3 / 20, step 400/600, loss = 0.1034\n",
            "epoch 3 / 20, step 500/600, loss = 0.0404\n",
            "epoch 3 / 20, step 600/600, loss = 0.0061\n",
            "epoch 4 / 20, step 100/600, loss = 0.0098\n",
            "epoch 4 / 20, step 200/600, loss = 0.0535\n",
            "epoch 4 / 20, step 300/600, loss = 0.0231\n",
            "epoch 4 / 20, step 400/600, loss = 0.0118\n",
            "epoch 4 / 20, step 500/600, loss = 0.0326\n",
            "epoch 4 / 20, step 600/600, loss = 0.0173\n",
            "epoch 5 / 20, step 100/600, loss = 0.0319\n",
            "epoch 5 / 20, step 200/600, loss = 0.0637\n",
            "epoch 5 / 20, step 300/600, loss = 0.0314\n",
            "epoch 5 / 20, step 400/600, loss = 0.0033\n",
            "epoch 5 / 20, step 500/600, loss = 0.0413\n",
            "epoch 5 / 20, step 600/600, loss = 0.0339\n",
            "epoch 6 / 20, step 100/600, loss = 0.0883\n",
            "epoch 6 / 20, step 200/600, loss = 0.0746\n",
            "epoch 6 / 20, step 300/600, loss = 0.0031\n",
            "epoch 6 / 20, step 400/600, loss = 0.0127\n",
            "epoch 6 / 20, step 500/600, loss = 0.0891\n",
            "epoch 6 / 20, step 600/600, loss = 0.0633\n",
            "epoch 7 / 20, step 100/600, loss = 0.0133\n",
            "epoch 7 / 20, step 200/600, loss = 0.0611\n",
            "epoch 7 / 20, step 300/600, loss = 0.0044\n",
            "epoch 7 / 20, step 400/600, loss = 0.0085\n",
            "epoch 7 / 20, step 500/600, loss = 0.0035\n",
            "epoch 7 / 20, step 600/600, loss = 0.0221\n",
            "epoch 8 / 20, step 100/600, loss = 0.0135\n",
            "epoch 8 / 20, step 200/600, loss = 0.0064\n",
            "epoch 8 / 20, step 300/600, loss = 0.0023\n",
            "epoch 8 / 20, step 400/600, loss = 0.0017\n",
            "epoch 8 / 20, step 500/600, loss = 0.0122\n",
            "epoch 8 / 20, step 600/600, loss = 0.0183\n",
            "epoch 9 / 20, step 100/600, loss = 0.0545\n",
            "epoch 9 / 20, step 200/600, loss = 0.0007\n",
            "epoch 9 / 20, step 300/600, loss = 0.0420\n",
            "epoch 9 / 20, step 400/600, loss = 0.0592\n",
            "epoch 9 / 20, step 500/600, loss = 0.0292\n",
            "epoch 9 / 20, step 600/600, loss = 0.1344\n",
            "epoch 10 / 20, step 100/600, loss = 0.0607\n",
            "epoch 10 / 20, step 200/600, loss = 0.0030\n",
            "epoch 10 / 20, step 300/600, loss = 0.0103\n",
            "epoch 10 / 20, step 400/600, loss = 0.0573\n",
            "epoch 10 / 20, step 500/600, loss = 0.0005\n",
            "epoch 10 / 20, step 600/600, loss = 0.0277\n",
            "epoch 11 / 20, step 100/600, loss = 0.0011\n",
            "epoch 11 / 20, step 200/600, loss = 0.0051\n",
            "epoch 11 / 20, step 300/600, loss = 0.0136\n",
            "epoch 11 / 20, step 400/600, loss = 0.0223\n",
            "epoch 11 / 20, step 500/600, loss = 0.0051\n",
            "epoch 11 / 20, step 600/600, loss = 0.0041\n",
            "epoch 12 / 20, step 100/600, loss = 0.0005\n",
            "epoch 12 / 20, step 200/600, loss = 0.0208\n",
            "epoch 12 / 20, step 300/600, loss = 0.0018\n",
            "epoch 12 / 20, step 400/600, loss = 0.0003\n",
            "epoch 12 / 20, step 500/600, loss = 0.0051\n",
            "epoch 12 / 20, step 600/600, loss = 0.0025\n",
            "epoch 13 / 20, step 100/600, loss = 0.0185\n",
            "epoch 13 / 20, step 200/600, loss = 0.0014\n",
            "epoch 13 / 20, step 300/600, loss = 0.0084\n",
            "epoch 13 / 20, step 400/600, loss = 0.0021\n",
            "epoch 13 / 20, step 500/600, loss = 0.0105\n",
            "epoch 13 / 20, step 600/600, loss = 0.0086\n",
            "epoch 14 / 20, step 100/600, loss = 0.0049\n",
            "epoch 14 / 20, step 200/600, loss = 0.0056\n",
            "epoch 14 / 20, step 300/600, loss = 0.0363\n",
            "epoch 14 / 20, step 400/600, loss = 0.0011\n",
            "epoch 14 / 20, step 500/600, loss = 0.0237\n",
            "epoch 14 / 20, step 600/600, loss = 0.0148\n",
            "epoch 15 / 20, step 100/600, loss = 0.0002\n",
            "epoch 15 / 20, step 200/600, loss = 0.0025\n",
            "epoch 15 / 20, step 300/600, loss = 0.0183\n",
            "epoch 15 / 20, step 400/600, loss = 0.0010\n",
            "epoch 15 / 20, step 500/600, loss = 0.0037\n",
            "epoch 15 / 20, step 600/600, loss = 0.0810\n",
            "epoch 16 / 20, step 100/600, loss = 0.0004\n",
            "epoch 16 / 20, step 200/600, loss = 0.0016\n",
            "epoch 16 / 20, step 300/600, loss = 0.0001\n",
            "epoch 16 / 20, step 400/600, loss = 0.0016\n",
            "epoch 16 / 20, step 500/600, loss = 0.0004\n",
            "epoch 16 / 20, step 600/600, loss = 0.0159\n",
            "epoch 17 / 20, step 100/600, loss = 0.0006\n",
            "epoch 17 / 20, step 200/600, loss = 0.0963\n",
            "epoch 17 / 20, step 300/600, loss = 0.0020\n",
            "epoch 17 / 20, step 400/600, loss = 0.0017\n",
            "epoch 17 / 20, step 500/600, loss = 0.0196\n",
            "epoch 17 / 20, step 600/600, loss = 0.0378\n",
            "epoch 18 / 20, step 100/600, loss = 0.0001\n",
            "epoch 18 / 20, step 200/600, loss = 0.0176\n",
            "epoch 18 / 20, step 300/600, loss = 0.0006\n",
            "epoch 18 / 20, step 400/600, loss = 0.0031\n",
            "epoch 18 / 20, step 500/600, loss = 0.0006\n",
            "epoch 18 / 20, step 600/600, loss = 0.0000\n",
            "epoch 19 / 20, step 100/600, loss = 0.0005\n",
            "epoch 19 / 20, step 200/600, loss = 0.1130\n",
            "epoch 19 / 20, step 300/600, loss = 0.0004\n",
            "epoch 19 / 20, step 400/600, loss = 0.0089\n",
            "epoch 19 / 20, step 500/600, loss = 0.0021\n",
            "epoch 19 / 20, step 600/600, loss = 0.0002\n",
            "epoch 20 / 20, step 100/600, loss = 0.0001\n",
            "epoch 20 / 20, step 200/600, loss = 0.0032\n",
            "epoch 20 / 20, step 300/600, loss = 0.0150\n",
            "epoch 20 / 20, step 400/600, loss = 0.0009\n",
            "epoch 20 / 20, step 500/600, loss = 0.0216\n",
            "epoch 20 / 20, step 600/600, loss = 0.0023\n"
          ]
        }
      ]
    },
    {
      "cell_type": "code",
      "source": [
        "#test\n",
        "with torch.no_grad():\n",
        "  n_correct = 0\n",
        "  n_samples = 0\n",
        "\n",
        "  for images, labels in test_loader:\n",
        "    images = images.reshape(-1,28*28).to(device)\n",
        "    labels = labels.to(device)\n",
        "    outputs = model(images)\n",
        "\n",
        "    _, predictions = torch.max(outputs,1)\n",
        "    n_samples += labels.shape[0]\n",
        "    n_correct += (predictions == labels).sum().item()\n",
        "\n",
        "  acc = 100 * n_correct / n_samples\n",
        "  print(f'accuracy = {acc}')"
      ],
      "metadata": {
        "colab": {
          "base_uri": "https://localhost:8080/"
        },
        "id": "L5nS5zhMZaWs",
        "outputId": "f4ba370c-8608-4822-adeb-e1978b33ca06"
      },
      "execution_count": null,
      "outputs": [
        {
          "output_type": "stream",
          "name": "stdout",
          "text": [
            "accuracy = 98.2\n"
          ]
        }
      ]
    },
    {
      "cell_type": "code",
      "source": [
        "import pandas as pd\n",
        "\n",
        "\n",
        "test_dataset = pd.read_csv(\"/content/data2/test.csv\")\n",
        "test_dataset = torch.Tensor(test_dataset.values)\n",
        "print(\"test_dataset\",test_dataset.shape)\n",
        "test_loader = torch.utils.data.DataLoader(dataset=test_dataset,batch_size=batch_size,\n",
        "                                           shuffle = False)\n",
        "pred = []\n",
        "with torch.no_grad():\n",
        "  n_correct = 0\n",
        "  n_samples = 0\n",
        "\n",
        "  for images in test_loader:\n",
        "    images = images.reshape(-1,28*28).to(device)\n",
        "    outputs = model(images)\n",
        "    print(\"OUTPUTS\",outputs.shape)\n",
        "    _, predictions = torch.max(outputs,1)\n",
        "    pred.append(predictions.detach().cpu().numpy())\n",
        "    \n",
        "    print(\"predictions\",predictions.shape)\n"
      ],
      "metadata": {
        "id": "QujT7U-2LVUY"
      },
      "execution_count": null,
      "outputs": []
    },
    {
      "cell_type": "code",
      "source": [
        "import numpy as np\n",
        "\n",
        "p = np.array(pred)\n",
        "p = p.flatten()\n",
        "print(p.shape)\n",
        "\n",
        "idx = [i+1 for i in range(len(p))]"
      ],
      "metadata": {
        "colab": {
          "base_uri": "https://localhost:8080/"
        },
        "id": "5_sjK5LG2h16",
        "outputId": "88866b28-8299-4c8a-df82-879d1c6dca2e"
      },
      "execution_count": null,
      "outputs": [
        {
          "output_type": "stream",
          "name": "stdout",
          "text": [
            "(28000,)\n"
          ]
        }
      ]
    },
    {
      "cell_type": "code",
      "source": [
        "print(idx)"
      ],
      "metadata": {
        "id": "qktXqH3r9SXE"
      },
      "execution_count": null,
      "outputs": []
    },
    {
      "cell_type": "code",
      "source": [
        "my_submission = pd.DataFrame({'ImageId': idx, 'Label': p})\n",
        "my_submission.to_csv('/content/data2/submission3.csv', index=False)\n",
        "my_submission.head()"
      ],
      "metadata": {
        "colab": {
          "base_uri": "https://localhost:8080/"
        },
        "id": "1QIZxPA-9b3k",
        "outputId": "5e934929-b63b-47db-ab25-92b3d0a6135d"
      },
      "execution_count": null,
      "outputs": [
        {
          "output_type": "execute_result",
          "data": {
            "text/html": [
              "\n",
              "  <div id=\"df-da36865e-4fcd-447a-aec7-50d3389dd07d\">\n",
              "    <div class=\"colab-df-container\">\n",
              "      <div>\n",
              "<style scoped>\n",
              "    .dataframe tbody tr th:only-of-type {\n",
              "        vertical-align: middle;\n",
              "    }\n",
              "\n",
              "    .dataframe tbody tr th {\n",
              "        vertical-align: top;\n",
              "    }\n",
              "\n",
              "    .dataframe thead th {\n",
              "        text-align: right;\n",
              "    }\n",
              "</style>\n",
              "<table border=\"1\" class=\"dataframe\">\n",
              "  <thead>\n",
              "    <tr style=\"text-align: right;\">\n",
              "      <th></th>\n",
              "      <th>ImageId</th>\n",
              "      <th>Label</th>\n",
              "    </tr>\n",
              "  </thead>\n",
              "  <tbody>\n",
              "    <tr>\n",
              "      <th>0</th>\n",
              "      <td>1</td>\n",
              "      <td>2</td>\n",
              "    </tr>\n",
              "    <tr>\n",
              "      <th>1</th>\n",
              "      <td>2</td>\n",
              "      <td>0</td>\n",
              "    </tr>\n",
              "    <tr>\n",
              "      <th>2</th>\n",
              "      <td>3</td>\n",
              "      <td>9</td>\n",
              "    </tr>\n",
              "    <tr>\n",
              "      <th>3</th>\n",
              "      <td>4</td>\n",
              "      <td>0</td>\n",
              "    </tr>\n",
              "    <tr>\n",
              "      <th>4</th>\n",
              "      <td>5</td>\n",
              "      <td>3</td>\n",
              "    </tr>\n",
              "  </tbody>\n",
              "</table>\n",
              "</div>\n",
              "      <button class=\"colab-df-convert\" onclick=\"convertToInteractive('df-da36865e-4fcd-447a-aec7-50d3389dd07d')\"\n",
              "              title=\"Convert this dataframe to an interactive table.\"\n",
              "              style=\"display:none;\">\n",
              "        \n",
              "  <svg xmlns=\"http://www.w3.org/2000/svg\" height=\"24px\"viewBox=\"0 0 24 24\"\n",
              "       width=\"24px\">\n",
              "    <path d=\"M0 0h24v24H0V0z\" fill=\"none\"/>\n",
              "    <path d=\"M18.56 5.44l.94 2.06.94-2.06 2.06-.94-2.06-.94-.94-2.06-.94 2.06-2.06.94zm-11 1L8.5 8.5l.94-2.06 2.06-.94-2.06-.94L8.5 2.5l-.94 2.06-2.06.94zm10 10l.94 2.06.94-2.06 2.06-.94-2.06-.94-.94-2.06-.94 2.06-2.06.94z\"/><path d=\"M17.41 7.96l-1.37-1.37c-.4-.4-.92-.59-1.43-.59-.52 0-1.04.2-1.43.59L10.3 9.45l-7.72 7.72c-.78.78-.78 2.05 0 2.83L4 21.41c.39.39.9.59 1.41.59.51 0 1.02-.2 1.41-.59l7.78-7.78 2.81-2.81c.8-.78.8-2.07 0-2.86zM5.41 20L4 18.59l7.72-7.72 1.47 1.35L5.41 20z\"/>\n",
              "  </svg>\n",
              "      </button>\n",
              "      \n",
              "  <style>\n",
              "    .colab-df-container {\n",
              "      display:flex;\n",
              "      flex-wrap:wrap;\n",
              "      gap: 12px;\n",
              "    }\n",
              "\n",
              "    .colab-df-convert {\n",
              "      background-color: #E8F0FE;\n",
              "      border: none;\n",
              "      border-radius: 50%;\n",
              "      cursor: pointer;\n",
              "      display: none;\n",
              "      fill: #1967D2;\n",
              "      height: 32px;\n",
              "      padding: 0 0 0 0;\n",
              "      width: 32px;\n",
              "    }\n",
              "\n",
              "    .colab-df-convert:hover {\n",
              "      background-color: #E2EBFA;\n",
              "      box-shadow: 0px 1px 2px rgba(60, 64, 67, 0.3), 0px 1px 3px 1px rgba(60, 64, 67, 0.15);\n",
              "      fill: #174EA6;\n",
              "    }\n",
              "\n",
              "    [theme=dark] .colab-df-convert {\n",
              "      background-color: #3B4455;\n",
              "      fill: #D2E3FC;\n",
              "    }\n",
              "\n",
              "    [theme=dark] .colab-df-convert:hover {\n",
              "      background-color: #434B5C;\n",
              "      box-shadow: 0px 1px 3px 1px rgba(0, 0, 0, 0.15);\n",
              "      filter: drop-shadow(0px 1px 2px rgba(0, 0, 0, 0.3));\n",
              "      fill: #FFFFFF;\n",
              "    }\n",
              "  </style>\n",
              "\n",
              "      <script>\n",
              "        const buttonEl =\n",
              "          document.querySelector('#df-da36865e-4fcd-447a-aec7-50d3389dd07d button.colab-df-convert');\n",
              "        buttonEl.style.display =\n",
              "          google.colab.kernel.accessAllowed ? 'block' : 'none';\n",
              "\n",
              "        async function convertToInteractive(key) {\n",
              "          const element = document.querySelector('#df-da36865e-4fcd-447a-aec7-50d3389dd07d');\n",
              "          const dataTable =\n",
              "            await google.colab.kernel.invokeFunction('convertToInteractive',\n",
              "                                                     [key], {});\n",
              "          if (!dataTable) return;\n",
              "\n",
              "          const docLinkHtml = 'Like what you see? Visit the ' +\n",
              "            '<a target=\"_blank\" href=https://colab.research.google.com/notebooks/data_table.ipynb>data table notebook</a>'\n",
              "            + ' to learn more about interactive tables.';\n",
              "          element.innerHTML = '';\n",
              "          dataTable['output_type'] = 'display_data';\n",
              "          await google.colab.output.renderOutput(dataTable, element);\n",
              "          const docLink = document.createElement('div');\n",
              "          docLink.innerHTML = docLinkHtml;\n",
              "          element.appendChild(docLink);\n",
              "        }\n",
              "      </script>\n",
              "    </div>\n",
              "  </div>\n",
              "  "
            ],
            "text/plain": [
              "   ImageId  Label\n",
              "0        1      2\n",
              "1        2      0\n",
              "2        3      9\n",
              "3        4      0\n",
              "4        5      3"
            ]
          },
          "metadata": {},
          "execution_count": 98
        }
      ]
    },
    {
      "cell_type": "code",
      "source": [
        "print(type(pred))"
      ],
      "metadata": {
        "colab": {
          "base_uri": "https://localhost:8080/"
        },
        "id": "c0hGsxWwzH2j",
        "outputId": "f868df69-9d50-47ea-cd34-9d81396cb56a"
      },
      "execution_count": null,
      "outputs": [
        {
          "output_type": "stream",
          "name": "stdout",
          "text": [
            "<class 'list'>\n"
          ]
        }
      ]
    },
    {
      "cell_type": "code",
      "source": [
        "print(predictions)"
      ],
      "metadata": {
        "colab": {
          "base_uri": "https://localhost:8080/"
        },
        "id": "LAVu7UeezQ2L",
        "outputId": "03769a9f-068f-4698-f19b-2ad542d10d55"
      },
      "execution_count": null,
      "outputs": [
        {
          "output_type": "stream",
          "name": "stdout",
          "text": [
            "tensor([2, 2, 2, 5, 1, 9, 4, 0, 1, 1, 3, 4, 0, 6, 9, 8, 6, 7, 2, 4, 0, 6, 8, 0,\n",
            "        2, 5, 1, 5, 4, 4, 7, 1, 1, 0, 7, 7, 0, 9, 9, 2, 6, 5, 9, 1, 9, 6, 7, 9,\n",
            "        9, 2, 8, 2, 5, 0, 1, 1, 3, 1, 7, 2, 3, 9, 9, 1, 9, 3, 4, 0, 3, 3, 5, 0,\n",
            "        4, 8, 0, 3, 6, 0, 1, 9, 3, 1, 1, 0, 4, 5, 2, 2, 9, 6, 7, 6, 1, 9, 7, 9,\n",
            "        7, 3, 9, 2], device='cuda:0')\n"
          ]
        }
      ]
    }
  ]
}